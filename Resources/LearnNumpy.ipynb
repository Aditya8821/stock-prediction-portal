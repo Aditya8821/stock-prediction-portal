{
 "cells": [
  {
   "cell_type": "code",
   "execution_count": 1,
   "id": "f95252c6-379b-4f51-868f-d35db703199c",
   "metadata": {},
   "outputs": [],
   "source": [
    "import numpy as np"
   ]
  },
  {
   "cell_type": "code",
   "execution_count": 2,
   "id": "2c419769-5e08-48e6-8f88-e943b7b52d18",
   "metadata": {},
   "outputs": [
    {
     "data": {
      "text/plain": [
       "'2.3.3'"
      ]
     },
     "execution_count": 2,
     "metadata": {},
     "output_type": "execute_result"
    }
   ],
   "source": [
    "np.__version__"
   ]
  },
  {
   "cell_type": "markdown",
   "id": "51547df7-9901-4c53-873f-e8b1bff3822c",
   "metadata": {},
   "source": [
    "## Create & Read"
   ]
  },
  {
   "cell_type": "markdown",
   "id": "39de7fd3-4cca-4475-af77-bbceabcd9918",
   "metadata": {},
   "source": [
    "## 1D Array"
   ]
  },
  {
   "cell_type": "code",
   "execution_count": 3,
   "id": "98747233-13f7-48ad-a906-d4c369af561d",
   "metadata": {},
   "outputs": [
    {
     "data": {
      "text/plain": [
       "array([1, 2, 3])"
      ]
     },
     "execution_count": 3,
     "metadata": {},
     "output_type": "execute_result"
    }
   ],
   "source": [
    "a1=np.array([1,2,3])\n",
    "a1"
   ]
  },
  {
   "cell_type": "code",
   "execution_count": 6,
   "id": "16754af2-0257-4741-b580-e7b3cd02ad4f",
   "metadata": {},
   "outputs": [
    {
     "data": {
      "text/plain": [
       "1"
      ]
     },
     "execution_count": 6,
     "metadata": {},
     "output_type": "execute_result"
    }
   ],
   "source": [
    "a1.ndim"
   ]
  },
  {
   "cell_type": "code",
   "execution_count": 7,
   "id": "8035c3db-212c-4d64-8be5-10a0dc64f922",
   "metadata": {},
   "outputs": [
    {
     "data": {
      "text/plain": [
       "3"
      ]
     },
     "execution_count": 7,
     "metadata": {},
     "output_type": "execute_result"
    }
   ],
   "source": [
    "a1.size"
   ]
  },
  {
   "cell_type": "code",
   "execution_count": 8,
   "id": "1c237083-3e11-4ae1-9107-cf5cadf6fad5",
   "metadata": {},
   "outputs": [
    {
     "data": {
      "text/plain": [
       "(3,)"
      ]
     },
     "execution_count": 8,
     "metadata": {},
     "output_type": "execute_result"
    }
   ],
   "source": [
    "a1.shape"
   ]
  },
  {
   "cell_type": "markdown",
   "id": "187367a2-8fb2-4e2d-9538-48320f4805fb",
   "metadata": {},
   "source": [
    "## 2D Array"
   ]
  },
  {
   "cell_type": "code",
   "execution_count": 10,
   "id": "e1a39073-4c4e-4dd5-a8f5-2b580c29ce85",
   "metadata": {},
   "outputs": [
    {
     "data": {
      "text/plain": [
       "array([[1, 2, 3],\n",
       "       [4, 5, 6]])"
      ]
     },
     "execution_count": 10,
     "metadata": {},
     "output_type": "execute_result"
    }
   ],
   "source": [
    "a2=np.array([[1,2,3],[4,5,6]])\n",
    "a2"
   ]
  },
  {
   "cell_type": "code",
   "execution_count": 11,
   "id": "bb0d0434-76c0-4e26-be56-133cb48b83aa",
   "metadata": {},
   "outputs": [
    {
     "data": {
      "text/plain": [
       "6"
      ]
     },
     "execution_count": 11,
     "metadata": {},
     "output_type": "execute_result"
    }
   ],
   "source": [
    "a2.size"
   ]
  },
  {
   "cell_type": "code",
   "execution_count": 12,
   "id": "34dec939-c858-4a61-895d-ef8567c60d90",
   "metadata": {},
   "outputs": [
    {
     "data": {
      "text/plain": [
       "2"
      ]
     },
     "execution_count": 12,
     "metadata": {},
     "output_type": "execute_result"
    }
   ],
   "source": [
    "a2.ndim"
   ]
  },
  {
   "cell_type": "code",
   "execution_count": 13,
   "id": "6d167502-4f87-4e3f-bf3a-e7afb3651ba5",
   "metadata": {},
   "outputs": [
    {
     "data": {
      "text/plain": [
       "(2, 3)"
      ]
     },
     "execution_count": 13,
     "metadata": {},
     "output_type": "execute_result"
    }
   ],
   "source": [
    "a2.shape"
   ]
  },
  {
   "cell_type": "markdown",
   "id": "01fe584f-b8af-4c9d-90b9-047a62de9abc",
   "metadata": {},
   "source": [
    "## 3D Array"
   ]
  },
  {
   "cell_type": "code",
   "execution_count": 18,
   "id": "e96d20e3-df9e-4f52-89e3-ed073cae0eb8",
   "metadata": {},
   "outputs": [
    {
     "data": {
      "text/plain": [
       "array([[[1, 2, 3],\n",
       "        [4, 5, 6]],\n",
       "\n",
       "       [[1, 2, 3],\n",
       "        [4, 5, 6]]])"
      ]
     },
     "execution_count": 18,
     "metadata": {},
     "output_type": "execute_result"
    }
   ],
   "source": [
    "a3=np.array([[[1,2,3],[4,5,6]],[[1,2,3],[4,5,6]]])\n",
    "a3"
   ]
  },
  {
   "cell_type": "code",
   "execution_count": 19,
   "id": "309381fc-a3f0-430b-aa27-0e6487c933d8",
   "metadata": {},
   "outputs": [
    {
     "data": {
      "text/plain": [
       "(2, 2, 3)"
      ]
     },
     "execution_count": 19,
     "metadata": {},
     "output_type": "execute_result"
    }
   ],
   "source": [
    "a3.shape"
   ]
  },
  {
   "cell_type": "code",
   "execution_count": 20,
   "id": "aa722e89-1df6-43c1-80f3-6ee4fdbe5852",
   "metadata": {},
   "outputs": [
    {
     "data": {
      "text/plain": [
       "3"
      ]
     },
     "execution_count": 20,
     "metadata": {},
     "output_type": "execute_result"
    }
   ],
   "source": [
    "a3.ndim"
   ]
  },
  {
   "cell_type": "code",
   "execution_count": 21,
   "id": "5ed1d077-e9b2-4af6-af33-3a1158f2f8bd",
   "metadata": {},
   "outputs": [
    {
     "data": {
      "text/plain": [
       "12"
      ]
     },
     "execution_count": 21,
     "metadata": {},
     "output_type": "execute_result"
    }
   ],
   "source": [
    "a3.size"
   ]
  },
  {
   "cell_type": "markdown",
   "id": "59ddcc0f-e652-48c6-8524-ccc4d1610e3e",
   "metadata": {},
   "source": [
    "## Random"
   ]
  },
  {
   "cell_type": "code",
   "execution_count": 27,
   "id": "23d10ce3-16bc-4cfc-b979-fb13b0468376",
   "metadata": {},
   "outputs": [
    {
     "data": {
      "text/plain": [
       "array([[[0.99710901, 0.05109031, 0.05763599],\n",
       "        [0.4278391 , 0.91592782, 0.66947365],\n",
       "        [0.82536951, 0.51605955, 0.3097897 ]],\n",
       "\n",
       "       [[0.62758849, 0.06560544, 0.12220927],\n",
       "        [0.70476494, 0.16400881, 0.97596553],\n",
       "        [0.99710367, 0.74795727, 0.83322817]]])"
      ]
     },
     "execution_count": 27,
     "metadata": {},
     "output_type": "execute_result"
    }
   ],
   "source": [
    "R=np.random.rand(2,3,3)\n",
    "R"
   ]
  },
  {
   "cell_type": "markdown",
   "id": "af79e108-47c4-436e-9301-f003c3077dca",
   "metadata": {},
   "source": [
    "## Zeros"
   ]
  },
  {
   "cell_type": "code",
   "execution_count": 28,
   "id": "f4a157d9-b1f7-4f6b-b23b-ea1df2569ff6",
   "metadata": {},
   "outputs": [
    {
     "data": {
      "text/plain": [
       "array([[[0., 0., 0., 0.],\n",
       "        [0., 0., 0., 0.],\n",
       "        [0., 0., 0., 0.]],\n",
       "\n",
       "       [[0., 0., 0., 0.],\n",
       "        [0., 0., 0., 0.],\n",
       "        [0., 0., 0., 0.]]])"
      ]
     },
     "execution_count": 28,
     "metadata": {},
     "output_type": "execute_result"
    }
   ],
   "source": [
    "zeros=np.zeros([2,3,4])\n",
    "zeros"
   ]
  },
  {
   "cell_type": "markdown",
   "id": "7d8ec046-69fe-433b-90d0-a2dfc3c1a0b6",
   "metadata": {},
   "source": [
    "## Ones"
   ]
  },
  {
   "cell_type": "code",
   "execution_count": 29,
   "id": "ee8da2d0-9ae9-413e-ac09-e4129db4cb90",
   "metadata": {},
   "outputs": [
    {
     "data": {
      "text/plain": [
       "array([[[1., 1.],\n",
       "        [1., 1.]],\n",
       "\n",
       "       [[1., 1.],\n",
       "        [1., 1.]]])"
      ]
     },
     "execution_count": 29,
     "metadata": {},
     "output_type": "execute_result"
    }
   ],
   "source": [
    "ones=np.ones([2,2,2])\n",
    "ones"
   ]
  },
  {
   "cell_type": "markdown",
   "id": "33df60ce-1ac0-4457-b363-eda11f320db2",
   "metadata": {},
   "source": [
    "## Full"
   ]
  },
  {
   "cell_type": "code",
   "execution_count": 30,
   "id": "234d3477-b8c8-4bc3-8d36-6372c042e4eb",
   "metadata": {},
   "outputs": [
    {
     "data": {
      "text/plain": [
       "array([[[8, 8],\n",
       "        [8, 8]],\n",
       "\n",
       "       [[8, 8],\n",
       "        [8, 8]]])"
      ]
     },
     "execution_count": 30,
     "metadata": {},
     "output_type": "execute_result"
    }
   ],
   "source": [
    "f=np.full([2,2,2],8)\n",
    "f"
   ]
  },
  {
   "cell_type": "markdown",
   "id": "a4748dd1-6933-472c-8e67-99aee0f77007",
   "metadata": {},
   "source": [
    "## Accessing"
   ]
  },
  {
   "cell_type": "code",
   "execution_count": 33,
   "id": "5d1e3d6a-5b40-4e22-bb6c-e6bd1985adce",
   "metadata": {},
   "outputs": [
    {
     "data": {
      "text/plain": [
       "array([[[0.99710901, 0.05109031, 0.05763599],\n",
       "        [0.4278391 , 0.91592782, 0.66947365],\n",
       "        [0.82536951, 0.51605955, 0.3097897 ]],\n",
       "\n",
       "       [[0.62758849, 0.06560544, 0.12220927],\n",
       "        [0.70476494, 0.16400881, 0.97596553],\n",
       "        [0.99710367, 0.74795727, 0.83322817]]])"
      ]
     },
     "execution_count": 33,
     "metadata": {},
     "output_type": "execute_result"
    }
   ],
   "source": [
    "R"
   ]
  },
  {
   "cell_type": "code",
   "execution_count": 39,
   "id": "b762c450-f6b8-4393-b6ba-a8265cdd4af3",
   "metadata": {},
   "outputs": [
    {
     "data": {
      "text/plain": [
       "np.float64(0.9159278163585153)"
      ]
     },
     "execution_count": 39,
     "metadata": {},
     "output_type": "execute_result"
    }
   ],
   "source": [
    "R[0,1,1]"
   ]
  },
  {
   "cell_type": "code",
   "execution_count": 40,
   "id": "f564cd7d-e116-48d6-90ff-cf3b410ef3a3",
   "metadata": {},
   "outputs": [
    {
     "data": {
      "text/plain": [
       "array([[[0.99710901, 0.05109031, 0.05763599],\n",
       "        [0.4278391 , 0.91592782, 0.66947365],\n",
       "        [0.82536951, 0.51605955, 0.3097897 ]]])"
      ]
     },
     "execution_count": 40,
     "metadata": {},
     "output_type": "execute_result"
    }
   ],
   "source": [
    "R[0:1]"
   ]
  },
  {
   "cell_type": "markdown",
   "id": "2f855b08-8fb3-4672-b930-b9f32a914710",
   "metadata": {},
   "source": [
    "## Update & Delete"
   ]
  },
  {
   "cell_type": "code",
   "execution_count": 42,
   "id": "eac54576-5dbc-4330-b217-41c5b8b816f0",
   "metadata": {},
   "outputs": [
    {
     "data": {
      "text/plain": [
       "array([[[0.43788305, 0.17551471],\n",
       "        [0.55167106, 0.02876976]],\n",
       "\n",
       "       [[0.34593079, 0.2053627 ],\n",
       "        [0.49573356, 0.24087334]]])"
      ]
     },
     "execution_count": 42,
     "metadata": {},
     "output_type": "execute_result"
    }
   ],
   "source": [
    "a1=np.random.rand(2,2,2)\n",
    "a1"
   ]
  },
  {
   "cell_type": "code",
   "execution_count": 43,
   "id": "14d4f298-404c-4e5e-a680-ca529820f015",
   "metadata": {},
   "outputs": [
    {
     "data": {
      "text/plain": [
       "array([[[0.89296011, 0.80562268],\n",
       "        [0.68668428, 0.19195753]],\n",
       "\n",
       "       [[0.07646472, 0.3146686 ],\n",
       "        [0.22972985, 0.03838357]]])"
      ]
     },
     "execution_count": 43,
     "metadata": {},
     "output_type": "execute_result"
    }
   ],
   "source": [
    "a2=np.random.rand(2,2,2)\n",
    "a2"
   ]
  },
  {
   "cell_type": "code",
   "execution_count": 44,
   "id": "9f7cc705-f490-44cc-9d01-872e07a39557",
   "metadata": {},
   "outputs": [
    {
     "data": {
      "text/plain": [
       "array([[[1.33084316, 0.98113738],\n",
       "        [1.23835534, 0.22072728]],\n",
       "\n",
       "       [[0.42239551, 0.5200313 ],\n",
       "        [0.72546341, 0.27925691]]])"
      ]
     },
     "execution_count": 44,
     "metadata": {},
     "output_type": "execute_result"
    }
   ],
   "source": [
    "np.add(a1,a2)"
   ]
  },
  {
   "cell_type": "code",
   "execution_count": 46,
   "id": "ff921a06-3f6e-4695-8866-78044e06fbf1",
   "metadata": {},
   "outputs": [
    {
     "data": {
      "text/plain": [
       "array([[[-0.45507705, -0.63010797],\n",
       "        [-0.13501322, -0.16318777]],\n",
       "\n",
       "       [[ 0.26946606, -0.1093059 ],\n",
       "        [ 0.26600371,  0.20248977]]])"
      ]
     },
     "execution_count": 46,
     "metadata": {},
     "output_type": "execute_result"
    }
   ],
   "source": [
    "np.subtract(a1,a2)"
   ]
  },
  {
   "cell_type": "markdown",
   "id": "a7929c50-784f-42be-8412-41686a6469fc",
   "metadata": {},
   "source": [
    "## Statistical Operation"
   ]
  },
  {
   "cell_type": "code",
   "execution_count": 47,
   "id": "f35aab20-3291-4ff9-81de-25e434f1cbed",
   "metadata": {},
   "outputs": [
    {
     "data": {
      "text/plain": [
       "np.float64(5.0)"
      ]
     },
     "execution_count": 47,
     "metadata": {},
     "output_type": "execute_result"
    }
   ],
   "source": [
    "np.sqrt(25)"
   ]
  },
  {
   "cell_type": "code",
   "execution_count": 49,
   "id": "d732b710-1c67-4ea4-a436-42d92b4d19c2",
   "metadata": {},
   "outputs": [
    {
     "data": {
      "text/plain": [
       "np.int64(25)"
      ]
     },
     "execution_count": 49,
     "metadata": {},
     "output_type": "execute_result"
    }
   ],
   "source": [
    "np.square(5)"
   ]
  },
  {
   "cell_type": "code",
   "execution_count": 50,
   "id": "276752f5-a1f6-42de-b495-650e52768613",
   "metadata": {},
   "outputs": [
    {
     "data": {
      "text/plain": [
       "np.int64(2)"
      ]
     },
     "execution_count": 50,
     "metadata": {},
     "output_type": "execute_result"
    }
   ],
   "source": [
    "np.abs(-2)"
   ]
  },
  {
   "cell_type": "code",
   "execution_count": 51,
   "id": "ab667770-51e6-43c6-9bd9-476c105ed02c",
   "metadata": {},
   "outputs": [
    {
     "data": {
      "text/plain": [
       "np.int64(256)"
      ]
     },
     "execution_count": 51,
     "metadata": {},
     "output_type": "execute_result"
    }
   ],
   "source": [
    "np.power(2,8)"
   ]
  },
  {
   "cell_type": "code",
   "execution_count": 52,
   "id": "f4c46a63-5fe6-4097-bb17-86b5a1951829",
   "metadata": {},
   "outputs": [
    {
     "data": {
      "text/plain": [
       "np.float64(0.6931471805599453)"
      ]
     },
     "execution_count": 52,
     "metadata": {},
     "output_type": "execute_result"
    }
   ],
   "source": [
    "np.log(2)"
   ]
  },
  {
   "cell_type": "code",
   "execution_count": 53,
   "id": "b9af98de-1e23-4864-8d77-ebcef39f361d",
   "metadata": {},
   "outputs": [
    {
     "data": {
      "text/plain": [
       "np.float64(0.5516710643045427)"
      ]
     },
     "execution_count": 53,
     "metadata": {},
     "output_type": "execute_result"
    }
   ],
   "source": [
    "np.max(a1)"
   ]
  },
  {
   "cell_type": "code",
   "execution_count": 54,
   "id": "296c0052-5499-428e-b7ce-4a6ef2e8510e",
   "metadata": {},
   "outputs": [
    {
     "data": {
      "text/plain": [
       "np.float64(0.03838357069633502)"
      ]
     },
     "execution_count": 54,
     "metadata": {},
     "output_type": "execute_result"
    }
   ],
   "source": [
    "np.min(a2)"
   ]
  },
  {
   "cell_type": "markdown",
   "id": "06c03999-039a-478c-9b83-4a684042657b",
   "metadata": {},
   "source": [
    "## Update "
   ]
  },
  {
   "cell_type": "code",
   "execution_count": 60,
   "id": "b064eac4-063f-425b-9e5d-bd0ac5260a74",
   "metadata": {},
   "outputs": [
    {
     "data": {
      "text/plain": [
       "array([[[1, 2, 3],\n",
       "        [4, 5, 6]],\n",
       "\n",
       "       [[1, 2, 3],\n",
       "        [4, 5, 6]]])"
      ]
     },
     "execution_count": 60,
     "metadata": {},
     "output_type": "execute_result"
    }
   ],
   "source": [
    "a3"
   ]
  },
  {
   "cell_type": "code",
   "execution_count": 65,
   "id": "6329cdf9-ab09-416a-98cb-0479fd639c92",
   "metadata": {},
   "outputs": [
    {
     "data": {
      "text/plain": [
       "array([[[  1,   2,   3],\n",
       "        [  4,   5,   6]],\n",
       "\n",
       "       [[  1, 634,   3],\n",
       "        [  4,   5,   6]]])"
      ]
     },
     "execution_count": 65,
     "metadata": {},
     "output_type": "execute_result"
    }
   ],
   "source": [
    "a3[1,0,1]=634\n",
    "a3"
   ]
  },
  {
   "cell_type": "code",
   "execution_count": 67,
   "id": "0339ea21-826a-45eb-a869-80f15f68357b",
   "metadata": {},
   "outputs": [
    {
     "data": {
      "text/plain": [
       "array([[[  1,   2,   3],\n",
       "        [  4,   5,   6]],\n",
       "\n",
       "       [[  1,   3, 634],\n",
       "        [  4,   5,   6]]])"
      ]
     },
     "execution_count": 67,
     "metadata": {},
     "output_type": "execute_result"
    }
   ],
   "source": [
    "a3.sort()\n",
    "a3"
   ]
  },
  {
   "cell_type": "markdown",
   "id": "1ac6f3b7-d713-4dd5-b918-232f4cbd5ad8",
   "metadata": {},
   "source": [
    "## Reshape\n",
    "Make sure whatever dimension you pass should be able to accomodate all the elements"
   ]
  },
  {
   "cell_type": "code",
   "execution_count": 70,
   "id": "f75b5feb-31cf-413f-979b-a3e5657457c7",
   "metadata": {},
   "outputs": [
    {
     "data": {
      "text/plain": [
       "array([[[  1,   2,   3,   4,   5,   6]],\n",
       "\n",
       "       [[  1,   3, 634,   4,   5,   6]]])"
      ]
     },
     "execution_count": 70,
     "metadata": {},
     "output_type": "execute_result"
    }
   ],
   "source": [
    "a3.reshape(2,1,6) "
   ]
  },
  {
   "cell_type": "code",
   "execution_count": 72,
   "id": "798617ef-9ae9-4b0a-a60c-61669d9fc651",
   "metadata": {},
   "outputs": [
    {
     "data": {
      "text/plain": [
       "array([[[  1,   2,   3,   4,   5,   6]],\n",
       "\n",
       "       [[  1,   3, 634,   4,   5,   6]]])"
      ]
     },
     "execution_count": 72,
     "metadata": {},
     "output_type": "execute_result"
    }
   ],
   "source": [
    "a3.reshape(2,1,-1) # If you are not sure about last dimension then you can give -1, it'll handle it automatically"
   ]
  },
  {
   "cell_type": "markdown",
   "id": "6edda49a-c9fa-4c6c-be97-88b93b5abeec",
   "metadata": {},
   "source": [
    "## Appending & Inserting"
   ]
  },
  {
   "cell_type": "code",
   "execution_count": 73,
   "id": "bb756adf-6ecb-41d9-adae-60a0c25689f4",
   "metadata": {},
   "outputs": [
    {
     "data": {
      "text/plain": [
       "array([[[0., 0., 0., 0.],\n",
       "        [0., 0., 0., 0.],\n",
       "        [0., 0., 0., 0.]],\n",
       "\n",
       "       [[0., 0., 0., 0.],\n",
       "        [0., 0., 0., 0.],\n",
       "        [0., 0., 0., 0.]]])"
      ]
     },
     "execution_count": 73,
     "metadata": {},
     "output_type": "execute_result"
    }
   ],
   "source": [
    "zeros"
   ]
  },
  {
   "cell_type": "code",
   "execution_count": 83,
   "id": "eae74c35-4035-45ed-a0bc-5fcb3af0b63d",
   "metadata": {},
   "outputs": [
    {
     "data": {
      "text/plain": [
       "array([[[1., 1., 1., 1.],\n",
       "        [1., 1., 1., 1.],\n",
       "        [1., 1., 1., 1.]],\n",
       "\n",
       "       [[1., 1., 1., 1.],\n",
       "        [1., 1., 1., 1.],\n",
       "        [1., 1., 1., 1.]]])"
      ]
     },
     "execution_count": 83,
     "metadata": {},
     "output_type": "execute_result"
    }
   ],
   "source": [
    "new_array=np.ones((2,3,4))\n",
    "new_array"
   ]
  },
  {
   "cell_type": "code",
   "execution_count": 84,
   "id": "4cc903ae-50a8-420f-a526-576716950947",
   "metadata": {},
   "outputs": [
    {
     "data": {
      "text/plain": [
       "array([[[0., 0., 0., 0.],\n",
       "        [0., 0., 0., 0.],\n",
       "        [0., 0., 0., 0.]],\n",
       "\n",
       "       [[0., 0., 0., 0.],\n",
       "        [0., 0., 0., 0.],\n",
       "        [0., 0., 0., 0.]],\n",
       "\n",
       "       [[1., 1., 1., 1.],\n",
       "        [1., 1., 1., 1.],\n",
       "        [1., 1., 1., 1.]],\n",
       "\n",
       "       [[1., 1., 1., 1.],\n",
       "        [1., 1., 1., 1.],\n",
       "        [1., 1., 1., 1.]]])"
      ]
     },
     "execution_count": 84,
     "metadata": {},
     "output_type": "execute_result"
    }
   ],
   "source": [
    "appd=np.append(zeros, new_array, axis=0)  # Here we are appending new_array to zeros\n",
    "appd"
   ]
  },
  {
   "cell_type": "code",
   "execution_count": 85,
   "id": "0e9b6748-0add-4757-9fb6-53bfca188ecb",
   "metadata": {},
   "outputs": [
    {
     "data": {
      "text/plain": [
       "array([[[0., 0., 0., 0.],\n",
       "        [0., 0., 0., 0.],\n",
       "        [0., 0., 0., 0.]],\n",
       "\n",
       "       [[1., 1., 1., 1.],\n",
       "        [1., 1., 1., 1.],\n",
       "        [1., 1., 1., 1.]],\n",
       "\n",
       "       [[1., 1., 1., 1.],\n",
       "        [1., 1., 1., 1.],\n",
       "        [1., 1., 1., 1.]],\n",
       "\n",
       "       [[0., 0., 0., 0.],\n",
       "        [0., 0., 0., 0.],\n",
       "        [0., 0., 0., 0.]]])"
      ]
     },
     "execution_count": 85,
     "metadata": {},
     "output_type": "execute_result"
    }
   ],
   "source": [
    "insert=np.insert(zeros, 1, new_array, axis=0)\n",
    "insert"
   ]
  },
  {
   "cell_type": "markdown",
   "id": "03bff54c-5722-448a-9551-38ac820ac773",
   "metadata": {},
   "source": [
    "## Delete"
   ]
  },
  {
   "cell_type": "code",
   "execution_count": null,
   "id": "40d967c4-c593-4280-9688-97b636836d8d",
   "metadata": {},
   "outputs": [],
   "source": [
    "np.delete(insert, 0, axis=1)\n"
   ]
  }
 ],
 "metadata": {
  "kernelspec": {
   "display_name": "Python 3 (ipykernel)",
   "language": "python",
   "name": "python3"
  },
  "language_info": {
   "codemirror_mode": {
    "name": "ipython",
    "version": 3
   },
   "file_extension": ".py",
   "mimetype": "text/x-python",
   "name": "python",
   "nbconvert_exporter": "python",
   "pygments_lexer": "ipython3",
   "version": "3.13.7"
  }
 },
 "nbformat": 4,
 "nbformat_minor": 5
}
